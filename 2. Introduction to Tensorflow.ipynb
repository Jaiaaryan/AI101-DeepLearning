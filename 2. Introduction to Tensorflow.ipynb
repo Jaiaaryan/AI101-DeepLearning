{
 "cells": [
  {
   "cell_type": "markdown",
   "metadata": {},
   "source": [
    "# 2. Introduction to Tensorflow\n",
    "![](img/2-tensorflow-01.jpg)  \n",
    "Tensorflow was released under the Apache 2.0 open-source license on November 9, 2015. It has undergone a lot of changes and emerged as one of the go-to library for a lot of Deep Learning Tasks. The advantages with Tensorflow are : \n",
    "![](img/2-tensorflow-applications-01.jpg)\n",
    "We will be covering both standard and eager mode of tensorflow execution in this chapter. But before we get into the nuts and bolts of Tensorflow, lets get our hands dirty by the hello world example."
   ]
  },
  {
   "cell_type": "code",
   "execution_count": 3,
   "metadata": {},
   "outputs": [
    {
     "name": "stdout",
     "output_type": "stream",
     "text": [
      "Tensorflow version is 1.1.0\n"
     ]
    }
   ],
   "source": [
    "import tensorflow as tf\n",
    "print ('Tensorflow version is %s'%tf.__version__)\n",
    "Let us first try to "
   ]
  },
  {
   "cell_type": "code",
   "execution_count": 4,
   "metadata": {},
   "outputs": [
    {
     "name": "stdout",
     "output_type": "stream",
     "text": [
      "b'Hello, TensorFlow!'\n"
     ]
    }
   ],
   "source": [
    "hello = tf.constant('Hello, TensorFlow!')\n",
    "\n",
    "# Start tf session\n",
    "sess = tf.Session()\n",
    "\n",
    "# Run the operation of initializing the constant\n",
    "print(sess.run(hello))"
   ]
  },
  {
   "cell_type": "markdown",
   "metadata": {},
   "source": [
    "# 1. Tensorflow : Fundamental Design\n",
    "When we add two numbers in python. like a=3, b=5, print(a+b). For this computation to happen it basically requires you to store the content of a and b in a memory location and also store the computation graph created by me. In this example it is (a,+,b). The computer converts it into pre-order (+,a,b) or post order(a,b,+) format for computation.  \n",
    "Now why am I talking about python computational graph? That's because I want to highlight that fact, that for any computation to happen, we need to  \n",
    "1. store the data  \n",
    "2. Store the operation in form of computational graph  \n",
    "This is exactly what Tensorflow is doing.  \n",
    "\n",
    "So even for Tensorflow, we have the same fundamental design. We have Tensors(tf.Tensor) and Operations(tf.Operation). Let us take the simple Example of addition of two constants in tensorflow to understand this concept. "
   ]
  },
  {
   "cell_type": "code",
   "execution_count": 18,
   "metadata": {},
   "outputs": [
    {
     "name": "stdout",
     "output_type": "stream",
     "text": [
      "x = 5\n",
      "y = 10\n",
      "z = x+y = 15\n",
      "Name of tensor z is  -> add_13:0\n",
      "The name of operation which lead to z is -> add_13\n",
      "\n",
      "Name of tensor z1 is  -> add_13:0\n",
      "The name of operation which lead to z is -> add_13\n",
      "\n"
     ]
    }
   ],
   "source": [
    "import tensorflow as tf\n",
    "\n",
    "x = tf.constant(5)\n",
    "y = tf.constant(10)\n",
    "z = x + y\n",
    "z1 = z\n",
    "\n",
    "with tf.Session() as sess:\n",
    "    print(\"x = %s\"%sess.run(x))\n",
    "    print(\"y = %s\"%sess.run(y))    \n",
    "    print(\"z = x+y = %s\" % sess.run(z))\n",
    "    print (\"Name of tensor z is  -> %s\\nThe name of operation which lead to z is -> %s\\n\"%(z.name,z.name.split(\":\")[0]))\n",
    "    print (\"Name of tensor z1 is  -> %s\\nThe name of operation which lead to z is -> %s\\n\"%(z1.name,z1.name.split(\":\")[0]))"
   ]
  },
  {
   "cell_type": "markdown",
   "metadata": {},
   "source": [
    "Now the operation which is internally created by tensorflow on z=a+b is tf.add, and hense the name of operation is **add_0**. For new operation the name is **add_1** and so on.  \n",
    "The name of the tensor(\"add_0:0\") is based on the operation which created it. Here (:0) in the name of the tensor is put to take care of an operation which yeilds multiple outputs. Splitting is one such operation. In that case we will have (:0) , (:1) and so on for different output. \\\\\n",
    "A tensor in tensorflow comes with **two default attributes** (which are commonly used).\n",
    "1. **v.shape** : The shape of n-dimensional array\n",
    "2. **v.dtype** : Tries to automatically detect the datatype of the data, similar to python"
   ]
  },
  {
   "cell_type": "code",
   "execution_count": 23,
   "metadata": {},
   "outputs": [
    {
     "name": "stdout",
     "output_type": "stream",
     "text": [
      "Default description for the tensor is : Tensor(\"Const_30:0\", shape=(2,), dtype=int32)\n",
      "\n",
      "Shape of the tensor is : (2,)\n",
      "\n",
      "Datatype of the tensor is : <dtype: 'int32'>\n",
      "\n"
     ]
    }
   ],
   "source": [
    "v = tf.constant([5,1])\n",
    "print ('Default description for the tensor is : %s\\n'%v)\n",
    "print ('Shape of the tensor is : %s\\n'%v.shape)\n",
    "print ('Datatype of the tensor is : %s\\n'%v.dtype)\n"
   ]
  },
  {
   "cell_type": "markdown",
   "metadata": {},
   "source": [
    "Tensorflow has 3 derived forms of tensor for spe\n",
    "## "
   ]
  },
  {
   "cell_type": "code",
   "execution_count": null,
   "metadata": {},
   "outputs": [],
   "source": []
  }
 ],
 "metadata": {
  "kernelspec": {
   "display_name": "Python 3",
   "language": "python",
   "name": "python3"
  },
  "language_info": {
   "codemirror_mode": {
    "name": "ipython",
    "version": 3
   },
   "file_extension": ".py",
   "mimetype": "text/x-python",
   "name": "python",
   "nbconvert_exporter": "python",
   "pygments_lexer": "ipython3",
   "version": "3.6.4"
  }
 },
 "nbformat": 4,
 "nbformat_minor": 2
}
