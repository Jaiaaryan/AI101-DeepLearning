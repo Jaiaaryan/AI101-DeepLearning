{
 "cells": [
  {
   "cell_type": "markdown",
   "metadata": {},
   "source": [
    "# 2. Introduction to Tensorflow\n",
    "![](img/2-tensorflow-01.jpg)  \n",
    "Tensorflow was released under the Apache 2.0 open-source license on November 9, 2015. It has undergone a lot of changes and emerged as one of the go-to library for a lot of Deep Learning Tasks. The advantages with Tensorflow are : \n",
    "![](img/2-tensorflow-applications-01.jpg)\n",
    "We will be covering both standard and eager mode of tensorflow execution in this chapter. But before we get into the nuts and bolts of Tensorflow, lets get our hands dirty by the hello world example."
   ]
  },
  {
   "cell_type": "code",
   "execution_count": 1,
   "metadata": {},
   "outputs": [
    {
     "name": "stdout",
     "output_type": "stream",
     "text": [
      "Tensorflow version is 1.8.0\n"
     ]
    }
   ],
   "source": [
    "import tensorflow as tf\n",
    "print ('Tensorflow version is %s'%tf.__version__)"
   ]
  },
  {
   "cell_type": "code",
   "execution_count": 4,
   "metadata": {},
   "outputs": [
    {
     "name": "stdout",
     "output_type": "stream",
     "text": [
      "b'Hello, TensorFlow!'\n"
     ]
    }
   ],
   "source": [
    "hello = tf.constant('Hello, TensorFlow!')\n",
    "\n",
    "# Start tf session\n",
    "sess = tf.Session()\n",
    "\n",
    "# Run the operation of initializing the constant\n",
    "print(sess.run(hello))"
   ]
  },
  {
   "cell_type": "markdown",
   "metadata": {},
   "source": [
    "## 2.1. Tensorflow : Fundamental Design\n",
    "When we add two numbers in python. like a=3, b=5, print(a+b). For this computation to happen it basically requires you to store the content of a and b in a memory location and also store the computation graph created by me. In this example it is (a,+,b). The computer converts it into pre-order (+,a,b) or post order(a,b,+) format for computation.  \n",
    "Now why am I talking about python computational graph? That's because I want to highlight that fact, that for any computation to happen, we need to  \n",
    "1. store the data  \n",
    "2. Store the operation in form of computational graph  \n",
    "This is exactly what Tensorflow is doing.  \n",
    "\n",
    "#### 2.1.1 Dataflow Programming\n",
    "If we stretch this computational strategy(directed graphs) to represent the complete program,the it becomes **Dataflow programming** paradigm.This comes with advantage such as \n",
    "1. Natural choice for Parallel Execution\n",
    "2. Distributed Execution\n",
    "\n",
    "So even for Tensorflow, we have the same fundamental design. We have \n",
    "1. **Tensors(tf.Tensor)** \n",
    "2. **Operations(tf.Operation)**  \n",
    "\n",
    "Let us take the simple Example of addition of two constants in tensorflow to understand this concept. "
   ]
  },
  {
   "cell_type": "code",
   "execution_count": 18,
   "metadata": {},
   "outputs": [
    {
     "name": "stdout",
     "output_type": "stream",
     "text": [
      "x = 5\n",
      "y = 10\n",
      "z = x+y = 15\n",
      "Name of tensor z is  -> add_13:0\n",
      "The name of operation which lead to z is -> add_13\n",
      "\n",
      "Name of tensor z1 is  -> add_13:0\n",
      "The name of operation which lead to z is -> add_13\n",
      "\n"
     ]
    }
   ],
   "source": [
    "import tensorflow as tf\n",
    "\n",
    "x = tf.constant(5)\n",
    "y = tf.constant(10)\n",
    "z = x + y\n",
    "z1 = z\n",
    "\n",
    "with tf.Session() as sess:\n",
    "    print(\"x = %s\"%sess.run(x))\n",
    "    print(\"y = %s\"%sess.run(y))    \n",
    "    print(\"z = x+y = %s\" % sess.run(z))\n",
    "    print (\"Name of tensor z is  -> %s\\nThe name of operation which lead to z is -> %s\\n\"%(z.name,z.name.split(\":\")[0]))\n",
    "    print (\"Name of tensor z1 is  -> %s\\nThe name of operation which lead to z is -> %s\\n\"%(z1.name,z1.name.split(\":\")[0]))"
   ]
  },
  {
   "cell_type": "markdown",
   "metadata": {},
   "source": [
    "Now the operation which is internally created by tensorflow on z=a+b is tf.add, and hense the name of operation is **add_0**. For new operation the name is **add_1** and so on.  \n",
    "The name of the tensor(\"add_0:0\") is based on the operation which created it. Here (:0) in the name of the tensor is put to take care of an operation which yeilds multiple outputs. Splitting is one such operation. In that case we will have (:0) , (:1) and so on for different output. \\\\\n",
    "\n",
    "> **Note :** The speacial case for Tensor's nomenclature-by-operation is constant initialization. In case of creating tensor via tf.constant , the name of the tensor can be either *const_0* or *const_1*  or *const_2* and so on, .\n",
    "\n",
    "#### 2.1.2 Two attributes of Tensor\n",
    "A tensor in tensorflow comes with **two default attributes** (which are commonly used).\n",
    "1. **v.shape** : The shape of n-dimensional array\n",
    "2. **v.dtype** : Tries to automatically detect the datatype of the data, similar to python\n",
    "3. **v.eval**  : Evaluates the value stored in session for that tensor.\n",
    "4. **v.op**    : Operation which lead to the tensor.\n",
    "5. **v.name**  : Name of the tensor.(By default it is named as operator:0 or operator:15 )\n",
    "\n",
    "> **Note :** Tensors can be evaluated, not the operations."
   ]
  },
  {
   "cell_type": "code",
   "execution_count": 23,
   "metadata": {},
   "outputs": [
    {
     "name": "stdout",
     "output_type": "stream",
     "text": [
      "Default description for the tensor is : Tensor(\"Const_30:0\", shape=(2,), dtype=int32)\n",
      "\n",
      "Shape of the tensor is : (2,)\n",
      "\n",
      "Datatype of the tensor is : <dtype: 'int32'>\n",
      "\n"
     ]
    }
   ],
   "source": [
    "v = tf.constant([5,1])\n",
    "print ('Default description for the tensor is : %s\\n'%v)\n",
    "print ('Shape of the tensor is : %s\\n'%v.shape)\n",
    "print ('Datatype of the tensor is : %s\\n'%v.dtype)\n"
   ]
  },
  {
   "cell_type": "markdown",
   "metadata": {},
   "source": [
    "#### 2.1.2 tf.Graph\n",
    "tf.Graph is the set of computational graphs which can executed in Tensorflow. \n",
    "* The nodes of this graph are **Operations**\n",
    "* The edges of this graph are **Tensors**\n",
    "\n",
    "![](img/2.1.3-tensorflow-graph1.png)\n",
    "\n",
    "#### 2.1.3 tf.Session\n",
    "tf.Session is like page in book which maintains the current state of tensors and graph. It serves as a lookup table containing \n",
    "1. All the ***Tensor*** and ***Operation*** Objects of the Graph\n",
    "2. ***Actual nd-array data*** which is residing in the edges of Computational Graph\n",
    "\n",
    "\n",
    "Tensorflow has 3 ways of creating tensors.\n",
    "1. tf.constant\n",
    "2. tf.Variable\n",
    "3. tf.placeholder\n",
    "\n",
    "Let us study each of them in detail. \n",
    "## 2.2. tf.constant, Graph and Session\n",
    "``` python\n",
    "tf.constant(\n",
    "    value,\n",
    "    dtype=None,\n",
    "    shape=None,\n",
    "    name='Const',\n",
    "    verify_shape=False\n",
    ")\n",
    "```\n",
    "\n",
    "tf.constant creates a constant tensor in the computational graph.  \n",
    "When we type : \n",
    ">```python\n",
    "> a = b + c\n",
    ">```  \n",
    "> Here, a is assigned **tensor** (*add_0:0*) which is result of **a.op** or **add** operation (add_0). \n",
    "\n",
    "#### 2.2.1 Evaluating constant wrt Session\n",
    "First way to set the context is by using\n",
    ">```python \n",
    "> with tf.Session as sess\n",
    ">```\n"
   ]
  },
  {
   "cell_type": "code",
   "execution_count": 9,
   "metadata": {},
   "outputs": [
    {
     "name": "stdout",
     "output_type": "stream",
     "text": [
      "2\n"
     ]
    }
   ],
   "source": [
    "# 2.2.1.1 Session Intialization for evaluating value of tf.constant : Implcit session passing\n",
    "a=tf.constant(2)\n",
    "with tf.Session() as sess:\n",
    "    # Session starts\n",
    "    print (a.eval())\n",
    "    # Session ends"
   ]
  },
  {
   "cell_type": "markdown",
   "metadata": {},
   "source": [
    "If you don't set the session context, you can pass session object as an argument to the eval function."
   ]
  },
  {
   "cell_type": "code",
   "execution_count": 14,
   "metadata": {},
   "outputs": [
    {
     "data": {
      "text/plain": [
       "2"
      ]
     },
     "execution_count": 14,
     "metadata": {},
     "output_type": "execute_result"
    }
   ],
   "source": [
    "# 2.2.1.2 Session Intialization for evaluating value of tf.constant  : Explicit session passing\n",
    "sess=tf.Session()\n",
    "a=tf.constant(2)\n",
    "a.eval(session = sess) #passing session as an argument"
   ]
  },
  {
   "cell_type": "markdown",
   "metadata": {},
   "source": [
    "Last way to obtain the value of constant tensor is via **sess.run**"
   ]
  },
  {
   "cell_type": "code",
   "execution_count": 16,
   "metadata": {},
   "outputs": [
    {
     "name": "stdout",
     "output_type": "stream",
     "text": [
      "2\n"
     ]
    }
   ],
   "source": [
    "# 2.2.1.3 Session Intialization  for evaluating value of tf.constant : via sess.run\n",
    "a=tf.constant(2)\n",
    "with tf.Session() as sess:\n",
    "    # Session starts\n",
    "    print (sess.run(a)) #run tensor refered by 'a' in the session 'sess' and print a's value\n",
    "    # Session ends"
   ]
  },
  {
   "cell_type": "markdown",
   "metadata": {},
   "source": [
    "#### 2.2.2 Revisiting the addition example"
   ]
  },
  {
   "cell_type": "code",
   "execution_count": 2,
   "metadata": {},
   "outputs": [],
   "source": [
    "sess = tf.Session()\n",
    "a = tf.constant(2)\n",
    "b = tf.constant(3)\n",
    "c = a + b"
   ]
  },
  {
   "cell_type": "code",
   "execution_count": 11,
   "metadata": {},
   "outputs": [
    {
     "name": "stdout",
     "output_type": "stream",
     "text": [
      "Name of tensor corrosponding to c is : add:0\n",
      "Name of operation which created tensor that is pointed by c is : add\n"
     ]
    }
   ],
   "source": [
    "# Printing the Operation\n",
    "print ('Name of tensor corrosponding to c is :',c.name)\n",
    "print ('Name of operation which created tensor that is pointed by c is :',c.op.name)"
   ]
  },
  {
   "cell_type": "code",
   "execution_count": 12,
   "metadata": {},
   "outputs": [
    {
     "name": "stdout",
     "output_type": "stream",
     "text": [
      "add_1:0\n",
      "add_2:0\n",
      "add_3:0\n"
     ]
    }
   ],
   "source": [
    "c1 = a + b\n",
    "c2 = a + b\n",
    "c3 = a + b\n",
    "print (c1.name)\n",
    "print (c2.name)\n",
    "print (c3.name)\n"
   ]
  },
  {
   "cell_type": "markdown",
   "metadata": {},
   "source": [
    "#### 2.2.3 Understanding Operations for the Simple Addition Example"
   ]
  },
  {
   "cell_type": "code",
   "execution_count": 15,
   "metadata": {},
   "outputs": [
    {
     "name": "stdout",
     "output_type": "stream",
     "text": [
      "name: \"Add_1\"\n",
      "op: \"Add\"\n",
      "input: \"const_a_1\"\n",
      "input: \"const_b_1\"\n",
      "attr {\n",
      "  key: \"T\"\n",
      "  value {\n",
      "    type: DT_INT32\n",
      "  }\n",
      "}\n",
      "\n"
     ]
    }
   ],
   "source": [
    "sess = tf.Session()\n",
    "a = tf.constant(2,name='const_a')\n",
    "b = tf.constant(3,name='const_b')\n",
    "c = tf.add(a,b)\n",
    "print (c.op)"
   ]
  },
  {
   "cell_type": "markdown",
   "metadata": {},
   "source": [
    "#### 2.2.4 Creating a custom graph for the Simple Addition Example"
   ]
  },
  {
   "cell_type": "code",
   "execution_count": 16,
   "metadata": {},
   "outputs": [],
   "source": [
    "graph = tf.Graph()\n",
    "sess = tf.Session(graph=graph)\n",
    "with graph.as_default():\n",
    "    a = tf.constant(2,name='const_a')\n",
    "    b = tf.constant(3,name='const_b')\n",
    "    c = tf.add(a,b)"
   ]
  },
  {
   "cell_type": "markdown",
   "metadata": {},
   "source": [
    "#### 2.2.5 Printing computational graph for the Simple Addition Example"
   ]
  },
  {
   "cell_type": "code",
   "execution_count": 24,
   "metadata": {},
   "outputs": [
    {
     "name": "stdout",
     "output_type": "stream",
     "text": [
      "----------------------- \n",
      "Operation 0 is \n",
      "name: \"const_a\"\n",
      "op: \"Const\"\n",
      "attr {\n",
      "  key: \"dtype\"\n",
      "  value {\n",
      "    type: DT_INT32\n",
      "  }\n",
      "}\n",
      "attr {\n",
      "  key: \"value\"\n",
      "  value {\n",
      "    tensor {\n",
      "      dtype: DT_INT32\n",
      "      tensor_shape {\n",
      "      }\n",
      "      int_val: 2\n",
      "    }\n",
      "  }\n",
      "}\n",
      "\n",
      "\n",
      "----------------------- \n",
      "Operation 1 is \n",
      "name: \"const_b\"\n",
      "op: \"Const\"\n",
      "attr {\n",
      "  key: \"dtype\"\n",
      "  value {\n",
      "    type: DT_INT32\n",
      "  }\n",
      "}\n",
      "attr {\n",
      "  key: \"value\"\n",
      "  value {\n",
      "    tensor {\n",
      "      dtype: DT_INT32\n",
      "      tensor_shape {\n",
      "      }\n",
      "      int_val: 3\n",
      "    }\n",
      "  }\n",
      "}\n",
      "\n",
      "\n",
      "----------------------- \n",
      "Operation 2 is \n",
      "name: \"Add\"\n",
      "op: \"Add\"\n",
      "input: \"const_a\"\n",
      "input: \"const_b\"\n",
      "attr {\n",
      "  key: \"T\"\n",
      "  value {\n",
      "    type: DT_INT32\n",
      "  }\n",
      "}\n",
      "\n",
      "\n"
     ]
    }
   ],
   "source": [
    "for i,op in enumerate(graph.get_operations()):\n",
    "    print ('----------------------- \\nOperation %i is \\n%s\\n'%(i,op))"
   ]
  },
  {
   "cell_type": "markdown",
   "metadata": {},
   "source": [
    "#### 2.2.6 Fetching and executing tensor by name in tensorflow"
   ]
  },
  {
   "cell_type": "code",
   "execution_count": 29,
   "metadata": {},
   "outputs": [
    {
     "name": "stdout",
     "output_type": "stream",
     "text": [
      "Tensor(\"const_a:0\", shape=(), dtype=int32)\n"
     ]
    }
   ],
   "source": [
    "v=graph.get_tensor_by_name('const_a:0')\n",
    "print (v)"
   ]
  },
  {
   "cell_type": "markdown",
   "metadata": {},
   "source": [
    "This is very useful especially if you have not created an explicit variable while writing the code. But mind it, you must name the operation for easy identfication.  \n",
    "If you are working with jupyter notebook, a new tensor is created on running the cell again. Therefore, you need to update suffix of the tensor name (:n) on each execution."
   ]
  },
  {
   "cell_type": "code",
   "execution_count": 30,
   "metadata": {},
   "outputs": [
    {
     "name": "stdout",
     "output_type": "stream",
     "text": [
      "5\n"
     ]
    }
   ],
   "source": [
    "# Example of fetching tensor from graph and evaluating its value\n",
    "sess = tf.Session()\n",
    "a = tf.constant(2,name='const_a')\n",
    "b = tf.constant(3,name='const_b')\n",
    "tf.add(a,b,name='addition')\n",
    "\n",
    "c=tf.get_default_graph().get_tensor_by_name('addition:0')\n",
    "print (c.eval(session=sess))"
   ]
  },
  {
   "cell_type": "code",
   "execution_count": null,
   "metadata": {},
   "outputs": [],
   "source": []
  },
  {
   "cell_type": "code",
   "execution_count": null,
   "metadata": {},
   "outputs": [],
   "source": []
  }
 ],
 "metadata": {
  "kernelspec": {
   "display_name": "Python 3",
   "language": "python",
   "name": "python3"
  },
  "language_info": {
   "codemirror_mode": {
    "name": "ipython",
    "version": 3
   },
   "file_extension": ".py",
   "mimetype": "text/x-python",
   "name": "python",
   "nbconvert_exporter": "python",
   "pygments_lexer": "ipython3",
   "version": "3.5.4"
  }
 },
 "nbformat": 4,
 "nbformat_minor": 2
}
