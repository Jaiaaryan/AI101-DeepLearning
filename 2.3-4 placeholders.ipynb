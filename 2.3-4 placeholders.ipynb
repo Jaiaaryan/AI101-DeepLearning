{
 "cells": [
  {
   "cell_type": "markdown",
   "metadata": {},
   "source": [
    "## 2.3 Overall Flow"
   ]
  },
  {
   "cell_type": "markdown",
   "metadata": {},
   "source": [
    "![](img/2.3-Tensorflow-blackbox-01.jpg)"
   ]
  },
  {
   "cell_type": "markdown",
   "metadata": {},
   "source": [
    "In **Tensorflow**, everything is executed within the context of session. Either you can pass it explicitely or pass it implicitely by using\n",
    "\n",
    ">```python  \n",
    ">with tf.Session() as sess : \n",
    ">    #evaluate the variables of computational graph\n",
    ">    #update the tensors \n",
    ">    pass\n",
    ">``` \n",
    "\n",
    "Within the scope, you can obtain the resultant tensor by evaluating the operation-based dependency Tree.   \n",
    "## 2.4 Placeholder\n",
    "If you want to assign the value of tensor in run-time, then using **tf.placeholder** is wise choice. tf.placeholder allows the user to enter changing values in a loop reciding inside the session. For example, if you want to pass a batch of images on fly, it makes sense, to have the tensor corrosponding to image as *tf.placeholder* instead of *tf.constant*.  \n",
    "\n",
    "In the example bellow, we will be looking at creation of fibonacci series via placeholders\n",
    "#### 2.4.1 Creating a fibonacci series"
   ]
  },
  {
   "cell_type": "code",
   "execution_count": 5,
   "metadata": {},
   "outputs": [
    {
     "name": "stdout",
     "output_type": "stream",
     "text": [
      "0 1 1 2 3 5 8 13 21 34 "
     ]
    }
   ],
   "source": [
    "#Creating a Fibonacci Series Example 1\n",
    "import tensorflow as tf;\n",
    "_a,_b = 0,1\n",
    "a = tf.placeholder(dtype=tf.int64)\n",
    "b = tf.placeholder(dtype=tf.int64)\n",
    "\n",
    "with tf.Session() as sess:\n",
    "    for i in range(10):\n",
    "        print (_a,end=\" \")\n",
    "        _a,_b = sess.run([b,a+b],feed_dict={a:_a,b:_b})\n"
   ]
  },
  {
   "cell_type": "code",
   "execution_count": 3,
   "metadata": {},
   "outputs": [
    {
     "name": "stdout",
     "output_type": "stream",
     "text": [
      "[0, 1, 1, 2, 3, 5, 8, 13, 21, 34, 55, 89]\n"
     ]
    }
   ],
   "source": [
    "#Creating a Fibonacci Series Example 2\n",
    "import tensorflow as tf;\n",
    "a = tf.placeholder(dtype=tf.int64)\n",
    "b = tf.placeholder(dtype=tf.int64)\n",
    "lst = [0,1]\n",
    "\n",
    "with tf.Session() as sess:\n",
    "    for i in range(10):\n",
    "        lst.append(sess.run(a+b,feed_dict={a:lst[-2],b:lst[-1]}))\n",
    "print (lst)\n"
   ]
  },
  {
   "cell_type": "markdown",
   "metadata": {},
   "source": [
    "#### 2.4.2 Matrix Vector Multiplication in tensorflow"
   ]
  },
  {
   "cell_type": "code",
   "execution_count": null,
   "metadata": {},
   "outputs": [],
   "source": [
    "matrix = "
   ]
  }
 ],
 "metadata": {
  "kernelspec": {
   "display_name": "Python 3",
   "language": "python",
   "name": "python3"
  },
  "language_info": {
   "codemirror_mode": {
    "name": "ipython",
    "version": 3
   },
   "file_extension": ".py",
   "mimetype": "text/x-python",
   "name": "python",
   "nbconvert_exporter": "python",
   "pygments_lexer": "ipython3",
   "version": "3.6.4"
  }
 },
 "nbformat": 4,
 "nbformat_minor": 2
}
