{
 "cells": [
  {
   "cell_type": "markdown",
   "metadata": {},
   "source": [
    "## 2.3 Overall Flow"
   ]
  },
  {
   "cell_type": "markdown",
   "metadata": {},
   "source": [
    "![](img/2.3-Tensorflow-blackbox-01.jpg)"
   ]
  },
  {
   "cell_type": "markdown",
   "metadata": {},
   "source": [
    "In **Tensorflow**, everything is executed within the context of session. Either you can pass it explicitely or pass it implicitely by using\n",
    "\n",
    ">```python  \n",
    ">with tf.Session() as sess : \n",
    ">    #evaluate the variables of computational graph\n",
    ">    #update the tensors \n",
    ">    pass\n",
    ">``` \n",
    "\n",
    "Within the scope, you can obtain the resultant tensor by evaluating the operation-based dependency Tree.   \n",
    "## 2.4 Placeholder\n",
    "If you want to assign the value of tensor in run-time, then using **tf.placeholder** is wise choice. tf.placeholder allows the user to enter changing values in a loop reciding inside the session. For example, if you want to pass a batch of images on fly, it makes sense, to have the tensor corrosponding to image as *tf.placeholder* instead of *tf.constant*.  \n",
    "\n",
    "In the example bellow, we will be looking at creation of fibonacci series via placeholders\n",
    "#### 2.4.1 Creating a fibonacci series"
   ]
  },
  {
   "cell_type": "code",
   "execution_count": 5,
   "metadata": {},
   "outputs": [
    {
     "name": "stdout",
     "output_type": "stream",
     "text": [
      "0 1 1 2 3 5 8 13 21 34 "
     ]
    }
   ],
   "source": [
    "#Creating a Fibonacci Series Example 1\n",
    "import tensorflow as tf;\n",
    "_a,_b = 0,1\n",
    "a = tf.placeholder(dtype=tf.int64)\n",
    "b = tf.placeholder(dtype=tf.int64)\n",
    "\n",
    "with tf.Session() as sess:\n",
    "    for i in range(10):\n",
    "        print (_a,end=\" \")\n",
    "        _a,_b = sess.run([b,a+b],feed_dict={a:_a,b:_b})\n"
   ]
  },
  {
   "cell_type": "code",
   "execution_count": 3,
   "metadata": {},
   "outputs": [
    {
     "name": "stdout",
     "output_type": "stream",
     "text": [
      "[0, 1, 1, 2, 3, 5, 8, 13, 21, 34, 55, 89]\n"
     ]
    }
   ],
   "source": [
    "#Creating a Fibonacci Series Example 2\n",
    "import tensorflow as tf;\n",
    "a = tf.placeholder(dtype=tf.int64)\n",
    "b = tf.placeholder(dtype=tf.int64)\n",
    "lst = [0,1]\n",
    "\n",
    "with tf.Session() as sess:\n",
    "    for i in range(10):\n",
    "        lst.append(sess.run(a+b,feed_dict={a:lst[-2],b:lst[-1]}))\n",
    "print (lst)\n"
   ]
  },
  {
   "cell_type": "markdown",
   "metadata": {},
   "source": [
    "#### 2.4.2 Matrix Vector Multiplication in tensorflow"
   ]
  },
  {
   "cell_type": "code",
   "execution_count": 13,
   "metadata": {},
   "outputs": [
    {
     "name": "stdout",
     "output_type": "stream",
     "text": [
      "matrix_val is \n",
      "[[ 0  1  2  3]\n",
      " [ 4  5  6  7]\n",
      " [ 8  9 10 11]]\n",
      "\n",
      "vector_val is \n",
      "[[0]\n",
      " [1]\n",
      " [2]\n",
      " [3]]\n",
      "\n",
      "output_val is \n",
      "[[14.]\n",
      " [38.]\n",
      " [62.]]\n",
      "\n"
     ]
    }
   ],
   "source": [
    "import tensorflow as tf\n",
    "import numpy as np\n",
    "matrix = tf.placeholder(dtype=tf.float32,shape=(3,4))\n",
    "vector = tf.placeholder(dtype=tf.float32,shape=(4,1))\n",
    "output = tf.matmul(matrix,vector);\n",
    "\n",
    "with tf.Session() as sess:\n",
    "    matrix_val = np.arange(12).reshape(3,4)\n",
    "    vector_val = np.arange(4).reshape(4,1)\n",
    "    output_val = output.eval(feed_dict={matrix: matrix_val, vector: vector_val})\n",
    "    print ('matrix_val is \\n%s\\n'%matrix_val)\n",
    "    print ('vector_val is \\n%s\\n'%vector_val)\n",
    "    print ('output_val is \\n%s\\n'%output_val )"
   ]
  },
  {
   "cell_type": "markdown",
   "metadata": {},
   "source": [
    "#### 2.4.3 Evaluate :  $\\left. \\cfrac{d}{dx}(2x^2) \\right\\vert_{(x=3)} $\n",
    "I have attached a simple example of doing differentiation and finding gradient of a function in Tensorflow\n"
   ]
  },
  {
   "cell_type": "code",
   "execution_count": null,
   "metadata": {},
   "outputs": [],
   "source": [
    "# Finding the derivative of function \n",
    "import tensorflow as tf;\n",
    "x= tf.placeholder(tf.float32);\n",
    "fx =2*x*x;\n",
    "grads =tf.gradients(fx,x)\n",
    "with tf.Session() as sess:\n",
    "    print (sess.run(grads,feed_dict={x:3.0}))\n"
   ]
  },
  {
   "cell_type": "markdown",
   "metadata": {},
   "source": [
    "#### 2.4.3 Evaluate :  $\\left. \\nabla (2x^2 + 3y^2) \\right\\vert_{(x=3,y=5)} $\n",
    "I have attached a simple example of doing differentiation and finding gradient of a function in Tensorflow\n"
   ]
  },
  {
   "cell_type": "code",
   "execution_count": 15,
   "metadata": {},
   "outputs": [
    {
     "name": "stdout",
     "output_type": "stream",
     "text": [
      "[12.0, 30.0]\n"
     ]
    }
   ],
   "source": [
    "# Finding the gradient of function \n",
    "x= tf.placeholder(tf.float32);\n",
    "y= tf.placeholder(tf.float32);\n",
    "fxy =2*x*x+3*y*y;\n",
    "grads =tf.gradients(fxy,[x,y])\n",
    "with tf.Session() as sess:\n",
    "    print (sess.run(grads,feed_dict={x:3.0,y:5.0}))"
   ]
  },
  {
   "cell_type": "code",
   "execution_count": null,
   "metadata": {},
   "outputs": [],
   "source": []
  }
 ],
 "metadata": {
  "kernelspec": {
   "display_name": "Python 3",
   "language": "python",
   "name": "python3"
  },
  "language_info": {
   "codemirror_mode": {
    "name": "ipython",
    "version": 3
   },
   "file_extension": ".py",
   "mimetype": "text/x-python",
   "name": "python",
   "nbconvert_exporter": "python",
   "pygments_lexer": "ipython3",
   "version": "3.5.4"
  }
 },
 "nbformat": 4,
 "nbformat_minor": 2
}
