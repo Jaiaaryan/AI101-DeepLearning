{
 "cells": [
  {
   "cell_type": "markdown",
   "metadata": {},
   "source": [
    "## 2.5 Variables in Tensorflow\n",
    "A variable maintains the state in the graph itself. In tensorflow graph, the nodes are the operations and the edges are data. But the **exception** to the rule is tf.Variable. It is an **operation/node in the Graph, which maintains data/state**.   \n",
    "Thats why, use of *tf.Variable is essential for stateful models*. It also comes with assign function.\n",
    "\n",
    "> **Note :** *tf.Variable is a function which takes tensors and initializers as input to construct a variable in Graph*  \n",
    "\n",
    "![](img/2.5.1-variable-graph.jpg)"
   ]
  },
  {
   "cell_type": "code",
   "execution_count": 1,
   "metadata": {},
   "outputs": [],
   "source": [
    "import tensorflow as tf;"
   ]
  },
  {
   "cell_type": "code",
   "execution_count": 2,
   "metadata": {},
   "outputs": [],
   "source": [
    "log_path='model/2.5.1-exp'\n",
    "graph = tf.Graph()\n",
    "with graph.as_default():\n",
    "    a = tf.Variable(3)"
   ]
  },
  {
   "cell_type": "code",
   "execution_count": 3,
   "metadata": {},
   "outputs": [
    {
     "name": "stdout",
     "output_type": "stream",
     "text": [
      "----------------------- \n",
      "Operation 0 is \n",
      "name: \"Variable/initial_value\"\n",
      "op: \"Const\"\n",
      "attr {\n",
      "  key: \"dtype\"\n",
      "  value {\n",
      "    type: DT_INT32\n",
      "  }\n",
      "}\n",
      "attr {\n",
      "  key: \"value\"\n",
      "  value {\n",
      "    tensor {\n",
      "      dtype: DT_INT32\n",
      "      tensor_shape {\n",
      "      }\n",
      "      int_val: 3\n",
      "    }\n",
      "  }\n",
      "}\n",
      "\n",
      "\n",
      "----------------------- \n",
      "Operation 1 is \n",
      "name: \"Variable\"\n",
      "op: \"VariableV2\"\n",
      "attr {\n",
      "  key: \"container\"\n",
      "  value {\n",
      "    s: \"\"\n",
      "  }\n",
      "}\n",
      "attr {\n",
      "  key: \"dtype\"\n",
      "  value {\n",
      "    type: DT_INT32\n",
      "  }\n",
      "}\n",
      "attr {\n",
      "  key: \"shape\"\n",
      "  value {\n",
      "    shape {\n",
      "    }\n",
      "  }\n",
      "}\n",
      "attr {\n",
      "  key: \"shared_name\"\n",
      "  value {\n",
      "    s: \"\"\n",
      "  }\n",
      "}\n",
      "\n",
      "\n",
      "----------------------- \n",
      "Operation 2 is \n",
      "name: \"Variable/Assign\"\n",
      "op: \"Assign\"\n",
      "input: \"Variable\"\n",
      "input: \"Variable/initial_value\"\n",
      "attr {\n",
      "  key: \"T\"\n",
      "  value {\n",
      "    type: DT_INT32\n",
      "  }\n",
      "}\n",
      "attr {\n",
      "  key: \"_class\"\n",
      "  value {\n",
      "    list {\n",
      "      s: \"loc:@Variable\"\n",
      "    }\n",
      "  }\n",
      "}\n",
      "attr {\n",
      "  key: \"use_locking\"\n",
      "  value {\n",
      "    b: true\n",
      "  }\n",
      "}\n",
      "attr {\n",
      "  key: \"validate_shape\"\n",
      "  value {\n",
      "    b: true\n",
      "  }\n",
      "}\n",
      "\n",
      "\n",
      "----------------------- \n",
      "Operation 3 is \n",
      "name: \"Variable/read\"\n",
      "op: \"Identity\"\n",
      "input: \"Variable\"\n",
      "attr {\n",
      "  key: \"T\"\n",
      "  value {\n",
      "    type: DT_INT32\n",
      "  }\n",
      "}\n",
      "attr {\n",
      "  key: \"_class\"\n",
      "  value {\n",
      "    list {\n",
      "      s: \"loc:@Variable\"\n",
      "    }\n",
      "  }\n",
      "}\n",
      "\n",
      "\n"
     ]
    }
   ],
   "source": [
    "for i,op in enumerate(graph.get_operations()):\n",
    "    print ('----------------------- \\nOperation %i is \\n%s\\n'%(i,op))"
   ]
  },
  {
   "cell_type": "code",
   "execution_count": 8,
   "metadata": {},
   "outputs": [],
   "source": [
    "# Writing in Tensorboard\n",
    "#tf.summary.FileWriter(logdir='model/2.5.1-exp',graph=graph)"
   ]
  },
  {
   "cell_type": "markdown",
   "metadata": {},
   "source": [
    "Let us look into some of the examples of usage of variables\n",
    "#### 2.5.1 Assigning constant to tf.Variable and incrementing it\n"
   ]
  },
  {
   "cell_type": "code",
   "execution_count": 20,
   "metadata": {},
   "outputs": [
    {
     "name": "stdout",
     "output_type": "stream",
     "text": [
      "6\n"
     ]
    }
   ],
   "source": [
    "a = tf.constant(3)\n",
    "b = tf.Variable(a+3)\n",
    "\n",
    "with tf.Session() as sess:\n",
    "    b.initializer.run() # Use sess.run or Operation.run for running initializer\n",
    "    print (b.eval())"
   ]
  },
  {
   "cell_type": "markdown",
   "metadata": {},
   "source": [
    "#### 2.5.2 Using zeros initializer and tf.get_variable  \n",
    "**tf.get_variable(name, shape, initializer)**  \n",
    "\n",
    "tf.get_variable is recommended function for creating a tensorflow variable(avoid use of tf.Variable). This takes care of corner cases like \n",
    "* name is a required argument, which helps the user to identify and vizualize a variabe in  tensorboard.\n",
    "* tf.get_variable doesn't create variable if it already exists with the same name (a common issue in jupyter notebooks)"
   ]
  },
  {
   "cell_type": "code",
   "execution_count": 1,
   "metadata": {},
   "outputs": [
    {
     "name": "stdout",
     "output_type": "stream",
     "text": [
      "[[0. 0. 0. 0. 0.]\n",
      " [0. 0. 0. 0. 0.]\n",
      " [0. 0. 0. 0. 0.]]\n"
     ]
    }
   ],
   "source": [
    "import tensorflow as tf;\n",
    "var = tf.get_variable(name='var',shape=(3,5),initializer=tf.zeros_initializer())\n",
    "with tf.Session() as sess:\n",
    "    var.initializer.run()\n",
    "    print (var.eval())"
   ]
  },
  {
   "cell_type": "markdown",
   "metadata": {},
   "source": [
    "#### 2.5.3 Using Global Initializer\n",
    "*tf.global_variables_initializer()* returns an *operation* which initializes all the variables present in the graph. This helps, because now, we don't need to initialize individual variables *seperately* anymore"
   ]
  },
  {
   "cell_type": "code",
   "execution_count": 3,
   "metadata": {},
   "outputs": [
    {
     "name": "stdout",
     "output_type": "stream",
     "text": [
      "1.0\n"
     ]
    }
   ],
   "source": [
    "import tensorflow as tf;\n",
    "x = tf.get_variable(name='x',shape=(),initializer=tf.zeros_initializer())\n",
    "y = tf.get_variable(name='y',shape=(),initializer=tf.ones_initializer())\n",
    "z = x + y\n",
    "initializer = tf.global_variables_initializer()\n",
    "with tf.Session() as sess:\n",
    "    initializer.run()\n",
    "    print(z.eval())\n",
    "    "
   ]
  },
  {
   "cell_type": "code",
   "execution_count": 4,
   "metadata": {},
   "outputs": [],
   "source": []
  },
  {
   "cell_type": "code",
   "execution_count": null,
   "metadata": {},
   "outputs": [],
   "source": []
  }
 ],
 "metadata": {
  "kernelspec": {
   "display_name": "Python 3",
   "language": "python",
   "name": "python3"
  },
  "language_info": {
   "codemirror_mode": {
    "name": "ipython",
    "version": 3
   },
   "file_extension": ".py",
   "mimetype": "text/x-python",
   "name": "python",
   "nbconvert_exporter": "python",
   "pygments_lexer": "ipython3",
   "version": "3.5.4"
  }
 },
 "nbformat": 4,
 "nbformat_minor": 2
}
