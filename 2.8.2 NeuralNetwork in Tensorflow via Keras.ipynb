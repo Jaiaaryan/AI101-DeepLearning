{
 "cells": [
  {
   "cell_type": "markdown",
   "metadata": {},
   "source": [
    "# Neural Networkin Tensorflow"
   ]
  },
  {
   "cell_type": "code",
   "execution_count": 16,
   "metadata": {},
   "outputs": [],
   "source": [
    "import tensorflow as tf;\n",
    "import sklearn.datasets;\n",
    "iris_ds = sklearn.datasets.load_iris(return_X_y=False)\n",
    "import pandas as pd"
   ]
  },
  {
   "cell_type": "code",
   "execution_count": 17,
   "metadata": {},
   "outputs": [
    {
     "data": {
      "text/plain": [
       "array([0, 0, 0, 0, 0, 0, 0, 0, 0, 0, 0, 0, 0, 0, 0, 0, 0, 0, 0, 0, 0, 0,\n",
       "       0, 0, 0, 0, 0, 0, 0, 0, 0, 0, 0, 0, 0, 0, 0, 0, 0, 0, 0, 0, 0, 0,\n",
       "       0, 0, 0, 0, 0, 0, 1, 1, 1, 1, 1, 1, 1, 1, 1, 1, 1, 1, 1, 1, 1, 1,\n",
       "       1, 1, 1, 1, 1, 1, 1, 1, 1, 1, 1, 1, 1, 1, 1, 1, 1, 1, 1, 1, 1, 1,\n",
       "       1, 1, 1, 1, 1, 1, 1, 1, 1, 1, 1, 1, 2, 2, 2, 2, 2, 2, 2, 2, 2, 2,\n",
       "       2, 2, 2, 2, 2, 2, 2, 2, 2, 2, 2, 2, 2, 2, 2, 2, 2, 2, 2, 2, 2, 2,\n",
       "       2, 2, 2, 2, 2, 2, 2, 2, 2, 2, 2, 2, 2, 2, 2, 2, 2, 2])"
      ]
     },
     "execution_count": 17,
     "metadata": {},
     "output_type": "execute_result"
    }
   ],
   "source": [
    "iris_ds.target"
   ]
  },
  {
   "cell_type": "code",
   "execution_count": 18,
   "metadata": {},
   "outputs": [],
   "source": [
    "import numpy as np\n",
    "iris_data = pd.DataFrame(data=iris_ds.data,columns=iris_ds.feature_names)"
   ]
  },
  {
   "cell_type": "code",
   "execution_count": 19,
   "metadata": {},
   "outputs": [
    {
     "data": {
      "text/html": [
       "<div>\n",
       "<style scoped>\n",
       "    .dataframe tbody tr th:only-of-type {\n",
       "        vertical-align: middle;\n",
       "    }\n",
       "\n",
       "    .dataframe tbody tr th {\n",
       "        vertical-align: top;\n",
       "    }\n",
       "\n",
       "    .dataframe thead th {\n",
       "        text-align: right;\n",
       "    }\n",
       "</style>\n",
       "<table border=\"1\" class=\"dataframe\">\n",
       "  <thead>\n",
       "    <tr style=\"text-align: right;\">\n",
       "      <th></th>\n",
       "      <th>sepal length (cm)</th>\n",
       "      <th>sepal width (cm)</th>\n",
       "      <th>petal length (cm)</th>\n",
       "      <th>petal width (cm)</th>\n",
       "    </tr>\n",
       "  </thead>\n",
       "  <tbody>\n",
       "    <tr>\n",
       "      <th>0</th>\n",
       "      <td>5.1</td>\n",
       "      <td>3.5</td>\n",
       "      <td>1.4</td>\n",
       "      <td>0.2</td>\n",
       "    </tr>\n",
       "    <tr>\n",
       "      <th>1</th>\n",
       "      <td>4.9</td>\n",
       "      <td>3.0</td>\n",
       "      <td>1.4</td>\n",
       "      <td>0.2</td>\n",
       "    </tr>\n",
       "    <tr>\n",
       "      <th>2</th>\n",
       "      <td>4.7</td>\n",
       "      <td>3.2</td>\n",
       "      <td>1.3</td>\n",
       "      <td>0.2</td>\n",
       "    </tr>\n",
       "    <tr>\n",
       "      <th>3</th>\n",
       "      <td>4.6</td>\n",
       "      <td>3.1</td>\n",
       "      <td>1.5</td>\n",
       "      <td>0.2</td>\n",
       "    </tr>\n",
       "    <tr>\n",
       "      <th>4</th>\n",
       "      <td>5.0</td>\n",
       "      <td>3.6</td>\n",
       "      <td>1.4</td>\n",
       "      <td>0.2</td>\n",
       "    </tr>\n",
       "  </tbody>\n",
       "</table>\n",
       "</div>"
      ],
      "text/plain": [
       "   sepal length (cm)  sepal width (cm)  petal length (cm)  petal width (cm)\n",
       "0                5.1               3.5                1.4               0.2\n",
       "1                4.9               3.0                1.4               0.2\n",
       "2                4.7               3.2                1.3               0.2\n",
       "3                4.6               3.1                1.5               0.2\n",
       "4                5.0               3.6                1.4               0.2"
      ]
     },
     "execution_count": 19,
     "metadata": {},
     "output_type": "execute_result"
    }
   ],
   "source": [
    "iris_data.head()"
   ]
  },
  {
   "cell_type": "code",
   "execution_count": 20,
   "metadata": {},
   "outputs": [],
   "source": [
    "from sklearn.model_selection import train_test_split"
   ]
  },
  {
   "cell_type": "code",
   "execution_count": 21,
   "metadata": {},
   "outputs": [],
   "source": [
    "import sklearn;\n",
    "min_max_scaler = sklearn.preprocessing.MinMaxScaler()\n",
    "scaled_data = min_max_scaler.fit_transform(iris_data)\n"
   ]
  },
  {
   "cell_type": "code",
   "execution_count": 22,
   "metadata": {},
   "outputs": [
    {
     "name": "stderr",
     "output_type": "stream",
     "text": [
      "C:\\Users\\jaley\\Anaconda3\\envs\\condaenv\\lib\\site-packages\\sklearn\\preprocessing\\_encoders.py:331: DeprecationWarning: Passing 'n_values' is deprecated in version 0.20 and will be removed in 0.22. You can use the 'categories' keyword instead. 'n_values=n' corresponds to 'categories=[range(n)]'.\n",
      "  warnings.warn(msg, DeprecationWarning)\n"
     ]
    }
   ],
   "source": [
    "from sklearn.preprocessing import OneHotEncoder\n",
    "encoder = OneHotEncoder(3)\n",
    "label = encoder.fit_transform(iris_ds.target.reshape(-1,1))\n",
    "label = label.todense()"
   ]
  },
  {
   "cell_type": "code",
   "execution_count": 23,
   "metadata": {},
   "outputs": [],
   "source": [
    "\n",
    "trainx,testx,trainy,testy = train_test_split(scaled_data,label)"
   ]
  },
  {
   "cell_type": "code",
   "execution_count": 9,
   "metadata": {},
   "outputs": [
    {
     "name": "stdout",
     "output_type": "stream",
     "text": [
      "(112, 4)\n"
     ]
    }
   ],
   "source": [
    "print (trainx.shape)"
   ]
  },
  {
   "cell_type": "markdown",
   "metadata": {},
   "source": [
    "#### Building a model in Tensorflow"
   ]
  },
  {
   "cell_type": "code",
   "execution_count": 1,
   "metadata": {},
   "outputs": [],
   "source": [
    "import tensorflow as tf;\n",
    "x = tf.placeholder(tf.float32, shape=[None,4])\n",
    "y = tf.placeholder(tf.float32, shape=[None,3])\n",
    "w1 = tf.get_variable(name='w1',dtype=tf.float32,shape=[5,4])\n",
    "w2 = tf.get_variable(name='w2',dtype=tf.float32,shape=(3,5))\n",
    "b1 = tf.get_variable(name='b1',dtype=tf.float32,shape=(5,1))\n",
    "b2 = tf.get_variable(name='b2',dtype=tf.float32,shape=(3,1))"
   ]
  },
  {
   "cell_type": "code",
   "execution_count": 25,
   "metadata": {},
   "outputs": [],
   "source": [
    "def build_model(x):\n",
    "    y1 = tf.transpose(tf.nn.relu(tf.matmul(w1,tf.transpose(x))+b1))\n",
    "    print (y1.shape)\n",
    "    y2 = tf.transpose(tf.matmul(w2,tf.transpose(y1))+b2)\n",
    "    print (y2.shape)\n",
    "    return tf.nn.softmax(y2)"
   ]
  },
  {
   "cell_type": "code",
   "execution_count": 26,
   "metadata": {},
   "outputs": [
    {
     "name": "stdout",
     "output_type": "stream",
     "text": [
      "(?, 5)\n",
      "(?, 3)\n"
     ]
    }
   ],
   "source": [
    "# Applying build_model\n",
    "\n",
    "y_hat = build_model(x)"
   ]
  },
  {
   "cell_type": "code",
   "execution_count": 44,
   "metadata": {},
   "outputs": [],
   "source": [
    "accuracy = tf.reduce_mean(tf.cast(tf.equal(tf.argmax(y,1),tf.argmax(y_hat,1)),tf.float64))"
   ]
  },
  {
   "cell_type": "code",
   "execution_count": 35,
   "metadata": {},
   "outputs": [],
   "source": [
    "entropy_loss = tf.losses.softmax_cross_entropy(logits=y_hat,onehot_labels=y)\n",
    "optimizer = tf.train.AdamOptimizer().minimize(entropy_loss)"
   ]
  },
  {
   "cell_type": "code",
   "execution_count": 49,
   "metadata": {},
   "outputs": [
    {
     "name": "stdout",
     "output_type": "stream",
     "text": [
      "loss=0.84672165,accuracy=0.23684210526315788\n",
      "loss=0.7150991,accuracy=0.6052631578947368\n",
      "loss=0.6482237,accuracy=0.6052631578947368\n",
      "loss=0.64221483,accuracy=0.7631578947368421\n",
      "loss=0.63996047,accuracy=0.8157894736842105\n",
      "loss=0.6262301,accuracy=0.8421052631578947\n",
      "loss=0.6124008,accuracy=0.9210526315789473\n",
      "loss=0.6018052,accuracy=0.9210526315789473\n",
      "loss=0.59266627,accuracy=0.9210526315789473\n",
      "loss=0.5853172,accuracy=0.9210526315789473\n",
      "loss=0.57918084,accuracy=0.9210526315789473\n",
      "loss=0.5743988,accuracy=0.9210526315789473\n",
      "loss=0.5704512,accuracy=0.9210526315789473\n",
      "loss=0.56721616,accuracy=0.9210526315789473\n",
      "loss=0.5646633,accuracy=0.9210526315789473\n",
      "loss=0.5625074,accuracy=0.9210526315789473\n",
      "loss=0.5607561,accuracy=0.9210526315789473\n",
      "loss=0.55933934,accuracy=0.9210526315789473\n",
      "loss=0.55813515,accuracy=0.9210526315789473\n",
      "loss=0.5571479,accuracy=0.9210526315789473\n",
      "loss=0.5563248,accuracy=0.9210526315789473\n",
      "loss=0.5556412,accuracy=0.9473684210526315\n",
      "loss=0.55506897,accuracy=0.9473684210526315\n",
      "loss=0.55458117,accuracy=0.9473684210526315\n",
      "loss=0.55416834,accuracy=0.9473684210526315\n",
      "loss=0.55381787,accuracy=0.9473684210526315\n",
      "loss=0.5535199,accuracy=0.9473684210526315\n",
      "loss=0.5532669,accuracy=0.9473684210526315\n",
      "loss=0.55304885,accuracy=0.9473684210526315\n",
      "loss=0.5528606,accuracy=0.9210526315789473\n",
      "loss=0.5526984,accuracy=0.9210526315789473\n",
      "loss=0.55255806,accuracy=0.9210526315789473\n",
      "loss=0.5524363,accuracy=0.9210526315789473\n",
      "loss=0.55233043,accuracy=0.9210526315789473\n",
      "loss=0.55223805,accuracy=0.9210526315789473\n",
      "loss=0.5521573,accuracy=0.9210526315789473\n",
      "loss=0.5520864,accuracy=0.9210526315789473\n",
      "loss=0.5520242,accuracy=0.9210526315789473\n",
      "loss=0.55196935,accuracy=0.9210526315789473\n",
      "loss=0.5519208,accuracy=0.9210526315789473\n",
      "loss=0.5518778,accuracy=0.9210526315789473\n",
      "loss=0.5518396,accuracy=0.9210526315789473\n",
      "loss=0.5518057,accuracy=0.9210526315789473\n",
      "loss=0.55177534,accuracy=0.9210526315789473\n",
      "loss=0.5517497,accuracy=0.9210526315789473\n",
      "loss=0.55172944,accuracy=0.9210526315789473\n",
      "loss=0.55171084,accuracy=0.9210526315789473\n",
      "loss=0.5516939,accuracy=0.9210526315789473\n",
      "loss=0.55167854,accuracy=0.9210526315789473\n",
      "loss=0.5516644,accuracy=0.9210526315789473\n",
      "loss=0.5516514,accuracy=0.9210526315789473\n",
      "loss=0.5516396,accuracy=0.9210526315789473\n",
      "loss=0.5516287,accuracy=0.9210526315789473\n",
      "loss=0.5516185,accuracy=0.9210526315789473\n",
      "loss=0.55160904,accuracy=0.9210526315789473\n",
      "loss=0.5516004,accuracy=0.9210526315789473\n",
      "loss=0.55159247,accuracy=0.9210526315789473\n",
      "loss=0.551585,accuracy=0.9210526315789473\n",
      "loss=0.5515781,accuracy=0.9210526315789473\n",
      "loss=0.5515716,accuracy=0.9210526315789473\n"
     ]
    }
   ],
   "source": [
    "\n",
    "with tf.Session() as sess :\n",
    "    sess.run(tf.global_variables_initializer())\n",
    "    sess.run(tf.local_variables_initializer())\n",
    "    for j in range(300):\n",
    "        for i in range(len(trainx)):\n",
    "            x_val = np.array(trainx[i].reshape(1,-1),dtype=np.float32)\n",
    "            y_val = np.array(trainy[i].reshape(1,-1),dtype=np.float32)\n",
    "            #print (i,x_val,y_val)\n",
    "            #print (x_val.dtype,'\\n',y_val.dtype)\n",
    "            optimizer.run(feed_dict={x:x_val,y:y_val})\n",
    "            _loss, = sess.run([entropy_loss] ,feed_dict={x:x_val,y:y_val})\n",
    "            #print ('yhat,y',_y_hat,y_val)\n",
    "            #print ('accuracy',_acc)\n",
    "        if(j%5==0):\n",
    "            _acc = sess.run(accuracy,feed_dict={x:testx,y:testy})\n",
    "            print ('loss=%s,accuracy=%s'%(_loss,_acc))"
   ]
  },
  {
   "cell_type": "code",
   "execution_count": null,
   "metadata": {},
   "outputs": [],
   "source": []
  }
 ],
 "metadata": {
  "kernelspec": {
   "display_name": "Python 3",
   "language": "python",
   "name": "python3"
  },
  "language_info": {
   "codemirror_mode": {
    "name": "ipython",
    "version": 3
   },
   "file_extension": ".py",
   "mimetype": "text/x-python",
   "name": "python",
   "nbconvert_exporter": "python",
   "pygments_lexer": "ipython3",
   "version": "3.6.4"
  }
 },
 "nbformat": 4,
 "nbformat_minor": 2
}
