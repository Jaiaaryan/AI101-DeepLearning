{
 "cells": [
  {
   "cell_type": "code",
   "execution_count": 22,
   "metadata": {},
   "outputs": [],
   "source": [
    "import pandas as pd\n",
    "import os;\n",
    "import numpy as np;\n",
    "from PIL import Image\n",
    "import tensorflow as tf;\n",
    "\n",
    "train_prefix = '/home/jaley/Downloads/all/train'\n",
    "test_prefix = '/home/jaley/Downloads/all/test1'\n",
    "def train_gen():\n",
    "    prefix = train_prefix\n",
    "    for filename in os.listdir(prefix):\n",
    "        label = np.zeros((2,))\n",
    "        if filename.startswith('dog'):                    \n",
    "            path = prefix + '/'+filename\n",
    "            label[1]=1\n",
    "        if filename.startswith('cat'):                    \n",
    "            path = prefix + '/'+filename\n",
    "            label[0]=1\n",
    "        yield  np.array(Image.open(path).resize((224,224)),dtype='float64').transpose((2,0,1))/255,label;\n"
   ]
  },
  {
   "cell_type": "code",
   "execution_count": 26,
   "metadata": {},
   "outputs": [],
   "source": [
    "train_ds = tf.data.Dataset.from_generator(train_gen,\n",
    "                                    output_types=(tf.float64,tf.float64),\n",
    "                                    output_shapes=((3,224,224),(2,) ))"
   ]
  },
  {
   "cell_type": "code",
   "execution_count": 27,
   "metadata": {},
   "outputs": [],
   "source": [
    "train_var = train_ds.repeat(10).shuffle(1000).batch(10).make_one_shot_iterator().get_next()"
   ]
  },
  {
   "cell_type": "code",
   "execution_count": 28,
   "metadata": {},
   "outputs": [
    {
     "name": "stdout",
     "output_type": "stream",
     "text": [
      "(10, 3, 224, 224) [[0. 1.]\n",
      " [0. 1.]\n",
      " [1. 0.]\n",
      " [1. 0.]\n",
      " [0. 1.]\n",
      " [1. 0.]\n",
      " [0. 1.]\n",
      " [1. 0.]\n",
      " [0. 1.]\n",
      " [1. 0.]]\n"
     ]
    }
   ],
   "source": [
    "with tf.Session() as sess:\n",
    "    dt,lbl = sess.run(train_var)\n",
    "    print (dt.shape,lbl)\n",
    "    "
   ]
  },
  {
   "cell_type": "code",
   "execution_count": 30,
   "metadata": {},
   "outputs": [
    {
     "name": "stdout",
     "output_type": "stream",
     "text": [
      "(10, 3, 224, 224) (10, 2)\n",
      "(10, 3, 224, 224) (10, 2)\n",
      "(10, 3, 224, 224) (10, 2)\n",
      "(10, 3, 224, 224) (10, 2)\n",
      "(10, 3, 224, 224) (10, 2)\n",
      "(10, 3, 224, 224) (10, 2)\n",
      "(10, 3, 224, 224) (10, 2)\n",
      "(10, 3, 224, 224) (10, 2)\n",
      "(10, 3, 224, 224) (10, 2)\n",
      "(10, 3, 224, 224) (10, 2)\n",
      "(10, 3, 224, 224) (10, 2)\n",
      "(10, 3, 224, 224) (10, 2)\n",
      "(10, 3, 224, 224) (10, 2)\n",
      "(10, 3, 224, 224) (10, 2)\n",
      "(10, 3, 224, 224) (10, 2)\n",
      "(10, 3, 224, 224) (10, 2)\n",
      "(10, 3, 224, 224) (10, 2)\n",
      "(10, 3, 224, 224) (10, 2)\n",
      "(10, 3, 224, 224) (10, 2)\n",
      "(10, 3, 224, 224) (10, 2)\n",
      "(10, 3, 224, 224) (10, 2)\n",
      "(10, 3, 224, 224) (10, 2)\n",
      "(10, 3, 224, 224) (10, 2)\n",
      "(10, 3, 224, 224) (10, 2)\n",
      "(10, 3, 224, 224) (10, 2)\n",
      "(10, 3, 224, 224) (10, 2)\n",
      "(10, 3, 224, 224) (10, 2)\n",
      "(10, 3, 224, 224) (10, 2)\n",
      "(10, 3, 224, 224) (10, 2)\n",
      "(10, 3, 224, 224) (10, 2)\n",
      "(10, 3, 224, 224) (10, 2)\n",
      "(10, 3, 224, 224) (10, 2)\n",
      "(10, 3, 224, 224) (10, 2)\n",
      "(10, 3, 224, 224) (10, 2)\n",
      "(10, 3, 224, 224) (10, 2)\n",
      "(10, 3, 224, 224) (10, 2)\n",
      "(10, 3, 224, 224) (10, 2)\n",
      "(10, 3, 224, 224) (10, 2)\n",
      "(10, 3, 224, 224) (10, 2)\n",
      "(10, 3, 224, 224) (10, 2)\n",
      "(10, 3, 224, 224) (10, 2)\n",
      "(10, 3, 224, 224) (10, 2)\n",
      "(10, 3, 224, 224) (10, 2)\n",
      "(10, 3, 224, 224) (10, 2)\n",
      "(10, 3, 224, 224) (10, 2)\n",
      "(10, 3, 224, 224) (10, 2)\n",
      "(10, 3, 224, 224) (10, 2)\n",
      "(10, 3, 224, 224) (10, 2)\n",
      "(10, 3, 224, 224) (10, 2)\n",
      "(10, 3, 224, 224) (10, 2)\n",
      "(10, 3, 224, 224) (10, 2)\n",
      "(10, 3, 224, 224) (10, 2)\n",
      "(10, 3, 224, 224) (10, 2)\n",
      "(10, 3, 224, 224) (10, 2)\n",
      "(10, 3, 224, 224) (10, 2)\n",
      "(10, 3, 224, 224) (10, 2)\n",
      "(10, 3, 224, 224) (10, 2)\n",
      "(10, 3, 224, 224) (10, 2)\n",
      "(10, 3, 224, 224) (10, 2)\n",
      "(10, 3, 224, 224) (10, 2)\n",
      "(10, 3, 224, 224) (10, 2)\n",
      "(10, 3, 224, 224) (10, 2)\n",
      "(10, 3, 224, 224) (10, 2)\n",
      "(10, 3, 224, 224) (10, 2)\n",
      "(10, 3, 224, 224) (10, 2)\n",
      "(10, 3, 224, 224) (10, 2)\n",
      "(10, 3, 224, 224) (10, 2)\n",
      "(10, 3, 224, 224) (10, 2)\n",
      "(10, 3, 224, 224) (10, 2)\n",
      "(10, 3, 224, 224) (10, 2)\n",
      "(10, 3, 224, 224) (10, 2)\n",
      "(10, 3, 224, 224) (10, 2)\n",
      "(10, 3, 224, 224) (10, 2)\n",
      "(10, 3, 224, 224) (10, 2)\n",
      "(10, 3, 224, 224) (10, 2)\n",
      "(10, 3, 224, 224) (10, 2)\n",
      "(10, 3, 224, 224) (10, 2)\n",
      "(10, 3, 224, 224) (10, 2)\n",
      "(10, 3, 224, 224) (10, 2)\n",
      "(10, 3, 224, 224) (10, 2)\n",
      "(10, 3, 224, 224) (10, 2)\n",
      "(10, 3, 224, 224) (10, 2)\n",
      "(10, 3, 224, 224) (10, 2)\n",
      "(10, 3, 224, 224) (10, 2)\n",
      "(10, 3, 224, 224) (10, 2)\n",
      "(10, 3, 224, 224) (10, 2)\n",
      "(10, 3, 224, 224) (10, 2)\n",
      "(10, 3, 224, 224) (10, 2)\n",
      "(10, 3, 224, 224) (10, 2)\n",
      "(10, 3, 224, 224) (10, 2)\n",
      "(10, 3, 224, 224) (10, 2)\n",
      "(10, 3, 224, 224) (10, 2)\n",
      "(10, 3, 224, 224) (10, 2)\n",
      "(10, 3, 224, 224) (10, 2)\n",
      "(10, 3, 224, 224) (10, 2)\n",
      "(10, 3, 224, 224) (10, 2)\n",
      "(10, 3, 224, 224) (10, 2)\n",
      "(10, 3, 224, 224) (10, 2)\n",
      "(10, 3, 224, 224) (10, 2)\n",
      "(10, 3, 224, 224) (10, 2)\n"
     ]
    }
   ],
   "source": [
    "with tf.Session() as sess:\n",
    "    for i in range(100):\n",
    "        dt,lbl = sess.run(train_var)\n",
    "        print (dt.shape,lbl.shape)"
   ]
  },
  {
   "cell_type": "markdown",
   "metadata": {},
   "source": [
    "## Using Decorators"
   ]
  },
  {
   "cell_type": "code",
   "execution_count": 31,
   "metadata": {},
   "outputs": [],
   "source": [
    "def testfunc(func):\n",
    "    for i in range(10):\n",
    "        yield i\n",
    "    \n",
    "@testfunc\n",
    "def train_func():\n",
    "    return 'train_prefix'"
   ]
  },
  {
   "cell_type": "code",
   "execution_count": 33,
   "metadata": {},
   "outputs": [
    {
     "name": "stdout",
     "output_type": "stream",
     "text": [
      "0\n",
      "1\n",
      "2\n",
      "3\n",
      "4\n",
      "5\n",
      "6\n",
      "7\n",
      "8\n",
      "9\n"
     ]
    }
   ],
   "source": [
    "for elem in train_func:\n",
    "    print (elem)"
   ]
  },
  {
   "cell_type": "code",
   "execution_count": null,
   "metadata": {},
   "outputs": [],
   "source": []
  }
 ],
 "metadata": {
  "kernelspec": {
   "display_name": "Python 3",
   "language": "python",
   "name": "python3"
  },
  "language_info": {
   "codemirror_mode": {
    "name": "ipython",
    "version": 3
   },
   "file_extension": ".py",
   "mimetype": "text/x-python",
   "name": "python",
   "nbconvert_exporter": "python",
   "pygments_lexer": "ipython3",
   "version": "3.6.7"
  }
 },
 "nbformat": 4,
 "nbformat_minor": 2
}
